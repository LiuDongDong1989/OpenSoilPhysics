{
 "cells": [
  {
   "cell_type": "code",
   "execution_count": 19,
   "metadata": {},
   "outputs": [
    {
     "name": "stdout",
     "output_type": "stream",
     "text": [
      "['/Users/liudongdong/Documents/ddliu代码库/PySoilPhysics/tests', '/opt/anaconda3/envs/ldd22/lib/python39.zip', '/opt/anaconda3/envs/ldd22/lib/python3.9', '/opt/anaconda3/envs/ldd22/lib/python3.9/lib-dynload', '', '/opt/anaconda3/envs/ldd22/lib/python3.9/site-packages', '..', '..', '..', '..']\n"
     ]
    }
   ],
   "source": [
    "import os\n",
    "import sys\n",
    "import numpy as np\n",
    "import pandas as pd\n",
    "import matplotlib.pyplot as plt\n",
    "sys.path.append('..')\n",
    "print(sys.path)  # 打印当前工作目录"
   ]
  },
  {
   "cell_type": "code",
   "execution_count": 20,
   "metadata": {},
   "outputs": [],
   "source": [
    "from models.SWRC_Data import SWRC_Data\n",
    "from models.SWRC import vanGenuchten, BrooksCorey, Durner\n",
    "from models.SWRC import GroeneveltGrant, Dexter, ModifiedvanGenuchten"
   ]
  },
  {
   "cell_type": "code",
   "execution_count": 21,
   "metadata": {},
   "outputs": [],
   "source": [
    "# 从CSV文件中读取数据\n",
    "file_path = \"SWRC_example1.csv\"  # 使用相对路径访问swrc文件夹中的文件\n",
    "df = pd.read_csv(file_path)\n",
    "\n",
    "# 将DataFrame列转换为numpy数组\n",
    "pressure_head = df['pressure_head'].values\n",
    "water_content = df['water_content'].values\n",
    "\n",
    "# 使用读取的数据创建SWRC_Data对象\n",
    "data = SWRC_Data(pressure_head, water_content)"
   ]
  },
  {
   "cell_type": "code",
   "execution_count": 22,
   "metadata": {},
   "outputs": [
    {
     "name": "stdout",
     "output_type": "stream",
     "text": [
      "theta_r: (0.08121565709874289, 0.02707614794005356)\n",
      "theta_s: (0.3962913478734337, 0.002071046894531976)\n",
      "alpha: (0.007043434834484943, 0.0007047462044454854)\n",
      "n: (1.2815961407722745, 0.049531110220518516)\n",
      "mse: 8.190753312028458e-06\n",
      "rmse: 0.002861949215487315\n",
      "mae: 0.0024486105102794003\n",
      "r2: 0.9982750981128564\n"
     ]
    }
   ],
   "source": [
    "# Example for vanGenuchten\n",
    "param_dict= {\n",
    "    'theta_r': (0, 0.6),\n",
    "    'theta_s': (0, 1),\n",
    "    'alpha': (0, 2),\n",
    "    'n': (1, 4)\n",
    "}\n",
    "model_vanGenuchten = vanGenuchten(param_dict=param_dict)\n",
    "fitted_params_model_vanGenuchten = model_vanGenuchten.fit(data)"
   ]
  },
  {
   "cell_type": "code",
   "execution_count": 23,
   "metadata": {},
   "outputs": [
    {
     "name": "stdout",
     "output_type": "stream",
     "text": [
      "theta_r: (1.3078158492551244e-19, 0.08310840514855136)\n",
      "theta_s: (0.38899999992358647, 0.0035664689046179788)\n",
      "lambda_: (0.15626929047398908, 0.049976150201659617)\n",
      "h_a: (73.1543338646209, 7.355790160465464)\n",
      "mse: 3.8907319016189935e-05\n",
      "rmse: 0.006237573167201322\n",
      "mae: 0.005140182610461293\n",
      "r2: 0.9918064547376652\n"
     ]
    }
   ],
   "source": [
    "# Example for BrooksCorey\n",
    "param_dict = {\n",
    "    'theta_r': (0, 0.6),\n",
    "    'theta_s': (0, 1.0),\n",
    "    'lambda_': (0, 2.0),\n",
    "    'h_a':     (0, 100)\n",
    "}\n",
    "model_BrooksCorey = BrooksCorey(param_dict = param_dict)\n",
    "fitted_params_model_BrooksCorey = model_BrooksCorey.fit(data)"
   ]
  },
  {
   "cell_type": "code",
   "execution_count": 24,
   "metadata": {},
   "outputs": [
    {
     "name": "stdout",
     "output_type": "stream",
     "text": [
      "theta_r: (0.13035983059056797, 0.5483242664089142)\n",
      "theta_s: (0.3940685505425904, 0.0023443948325864612)\n",
      "alpha1: (0.006136272950451902, 0.0021353203116643727)\n",
      "n1: (1.4653126621386785, 0.3547715741375525)\n",
      "alpha2: (0.00012523591650980535, 0.0009939643905018643)\n",
      "n2: (3.9999999999958464, 212.88645385170676)\n",
      "w1: (0.9082562262403157, 2.5855954194357538)\n",
      "mse: 5.454844414353828e-06\n",
      "rmse: 0.002335560835078767\n",
      "mae: 0.0019948583644600975\n",
      "r2: 0.9988512568910388\n"
     ]
    }
   ],
   "source": [
    "# Example for Durner\n",
    "param_dict = {\n",
    "    'theta_r': (0, 0.6),\n",
    "    'theta_s': (0, 1),\n",
    "    'alpha1': (0, 2),\n",
    "    'n1':     (1, 4),\n",
    "    'alpha2': (0, 2),\n",
    "    'n2': (1, 4),\n",
    "    'w1': (0, 1)\n",
    "}\n",
    "model_Durner = Durner(param_dict = param_dict)\n",
    "fitted_params_model_Durner = model_Durner.fit(data)"
   ]
  },
  {
   "cell_type": "code",
   "execution_count": 25,
   "metadata": {},
   "outputs": [
    {
     "name": "stdout",
     "output_type": "stream",
     "text": [
      "x0: (9.99999999999986, 4.028952725625832)\n",
      "k0: (10.351274989569154, 1.4203183918056022)\n",
      "k1: (0.44375573423650677, 0.06408102380186301)\n",
      "n: (1.9352522079557688, 0.23495667564768483)\n",
      "mse: 1.0320483334633917e-05\n",
      "rmse: 0.003212550907710867\n",
      "mae: 0.002753173726904242\n",
      "r2: 0.9978265953689508\n"
     ]
    }
   ],
   "source": [
    "# Example for GroeneveltGrant\n",
    "param_dict = {\n",
    "    'x0': (5, 10),\n",
    "    'k0': (0, 100),\n",
    "    'k1': (0, 100),\n",
    "    'n':  (1, 4),\n",
    "}\n",
    "model_GroeneveltGrant = GroeneveltGrant(param_dict = param_dict)\n",
    "fitted_params_model_GroeneveltGrant = model_GroeneveltGrant.fit(data)"
   ]
  },
  {
   "cell_type": "code",
   "execution_count": 26,
   "metadata": {},
   "outputs": [
    {
     "name": "stdout",
     "output_type": "stream",
     "text": [
      "theta_r: (0.07419157921194841, 0.09155521051427733)\n",
      "theta_s: (0.38926713195845486, 0.04658562135611197)\n",
      "alpha: (0.007043432647429545, 0.0009738995343821692)\n",
      "n: (1.2815963835280408, 0.15718118492361596)\n",
      "b0: (0.007024213618659273, 0.044998178493287)\n",
      "b1: (3.511707723060305e-31, 6.169260241402331e-06)\n",
      "b2: (1.1273812413971058e-33, 2.4226537306493897e-10)\n",
      "mse: 8.190753312000294e-06\n",
      "rmse: 0.002861949215482395\n",
      "mae: 0.002448611461849997\n",
      "r2: 0.9982750981128623\n"
     ]
    }
   ],
   "source": [
    "# Example for ModifiedvanGenuchten\n",
    "param_dict = {\n",
    "    'theta_r': (0, 0.6),\n",
    "    'theta_s': (0, 1),\n",
    "    'alpha': (0, 2),\n",
    "    'n':     (1, 4),\n",
    "    'b0': (0, 100),\n",
    "    'b1': (0, 100),\n",
    "    'b2': (0, 100)\n",
    "}\n",
    "model_ModifiedvanGenuchten =ModifiedvanGenuchten(param_dict=param_dict)\n",
    "fitted_params_model_ModifiedvanGenuchten = model_ModifiedvanGenuchten.fit(data)"
   ]
  }
 ],
 "metadata": {
  "kernelspec": {
   "display_name": "ldd22",
   "language": "python",
   "name": "python3"
  },
  "language_info": {
   "codemirror_mode": {
    "name": "ipython",
    "version": 3
   },
   "file_extension": ".py",
   "mimetype": "text/x-python",
   "name": "python",
   "nbconvert_exporter": "python",
   "pygments_lexer": "ipython3",
   "version": "3.9.15"
  },
  "orig_nbformat": 4
 },
 "nbformat": 4,
 "nbformat_minor": 2
}
