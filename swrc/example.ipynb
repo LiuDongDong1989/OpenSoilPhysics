{
 "cells": [
  {
   "cell_type": "code",
   "execution_count": null,
   "metadata": {},
   "outputs": [],
   "source": [
    "import numpy as np"
   ]
  },
  {
   "cell_type": "code",
   "execution_count": null,
   "metadata": {},
   "outputs": [],
   "source": [
    "from swrc.data import SWRC_Data\n",
    "from swrc.models.model1 import SWRC_Model1\n",
    "from swrc.models.model2 import SWRC_Model2\n",
    "from swrc.models.model3 import SWRC_Model3\n",
    "from swrc.models.model4 import SWRC_Model4_Silva, SWRC_Model4_Ross\n",
    "from swrc.models.model5 import SWRC_Model5"
   ]
  },
  {
   "cell_type": "code",
   "execution_count": null,
   "metadata": {},
   "outputs": [],
   "source": [
    "# Sample data\n",
    "pressure_head = np.array([4, 7, 23, 53, 77, 94, 112, 142, 160, 176, 195, 229, 263, 300, 3000, 7000, 15000])\n",
    "water_content = np.array([0.395, 0.396, 0.387, 0.378, 0.374, 0.365, 0.365, 0.350, 0.350, 0.343, 0.342, 0.333, 0.321, 0.313, 0.216, 0.189, 0.163])\n",
    "\n",
    "data = SWRC_Data(pressure_head, water_content)"
   ]
  },
  {
   "cell_type": "code",
   "execution_count": null,
   "metadata": {},
   "outputs": [],
   "source": [
    "# Example for Model1\n",
    "param_bounds_model1 = {\n",
    "    'theta_R': (0, 0.5),\n",
    "    'theta_S': (0, 0.5),\n",
    "    'alpha': (0, 2),\n",
    "    'n': (1, 5)\n",
    "}\n",
    "model1 = SWRC_Model1(param_bounds=param_bounds_model1)\n",
    "fitted_params_model1 = model1.fit(data)\n",
    "model1.plot(data)\n",
    "print(f\"Model1 fitted parameters: {fitted_params_model1}\")"
   ]
  },
  {
   "cell_type": "code",
   "execution_count": null,
   "metadata": {},
   "outputs": [],
   "source": [
    "# Example for Model2\n",
    "param_bounds_model2 = {\n",
    "    'k0': (0, 10),\n",
    "    'k1': (0, 1),\n",
    "    'n': (1, 5)\n",
    "}\n",
    "model2 = SWRC_Model2(param_bounds=param_bounds_model2)\n",
    "fitted_params_model2 = model2.fit(data)\n",
    "model2.plot(data)\n",
    "print(f\"Model2 fitted parameters: {fitted_params_model2}\")"
   ]
  },
  {
   "cell_type": "code",
   "execution_count": null,
   "metadata": {},
   "outputs": [],
   "source": [
    "# Example for Model3\n",
    "param_bounds_model3 = {\n",
    "    'theta_R': (0, 0.5),\n",
    "    'a1': (0, 1),\n",
    "    'p1': (0, 100),\n",
    "    'a2': (0, 1),\n",
    "    'p2': (0, 100)\n",
    "}\n",
    "model3 = SWRC_Model3(param_bounds=param_bounds_model3)\n",
    "fitted_params_model3 = model3.fit(data)\n",
    "model3.plot(data)\n",
    "print(f\"Model3 fitted parameters: {fitted_params_model3}\")\n",
    "\n"
   ]
  },
  {
   "cell_type": "code",
   "execution_count": null,
   "metadata": {},
   "outputs": [],
   "source": [
    "# Example for Model4 Silva\n",
    "param_bounds_model4_silva = {\n",
    "    'Bd': (0, 2),\n",
    "    'a': (-5, 5),\n",
    "    'b': (0, 5),\n",
    "    'c': (0, 5)\n",
    "}\n",
    "model4_silva = SWRC_Model4_Silva(param_bounds=param_bounds_model4_silva)\n",
    "fitted_params_model4_silva = model4_silva.fit(data)\n",
    "model4_silva.plot(data)\n",
    "print(f\"Model4 Silva fitted parameters: {fitted_params_model4_silva}\")"
   ]
  },
  {
   "cell_type": "code",
   "execution_count": null,
   "metadata": {},
   "outputs": [],
   "source": [
    "# Example for Model4 Ross\n",
    "param_bounds_model4_ross = {\n",
    "    'a': (0, 1),\n",
    "    'c': (0, 5)\n",
    "}\n",
    "model4_ross = SWRC_Model4_Ross(param_bounds=param_bounds_model4_ross)\n",
    "fitted_params_model4_ross = model4_ross.fit(data)\n",
    "model4_ross.plot(data)\n",
    "print(f\"Model4 Ross fitted parameters: {fitted_params_model4_ross}\")"
   ]
  },
  {
   "cell_type": "code",
   "execution_count": null,
   "metadata": {},
   "outputs": [],
   "source": [
    "# Example for Model5\n",
    "param_bounds_model5 = {\n",
    "    'theta_R': (0, 0.5),\n",
    "    'theta_S': (0, 0.5),\n",
    "    'sat_index': (0, 1),\n",
    "    'b0': (-1, 1),\n",
    "    'b1': (-1, 1),\n",
    "    'b2': (-1, 1)\n",
    "}\n",
    "model5 = SWRC_Model5(param_bounds=param_bounds_model5)\n",
    "fitted_params_model5 = model5.fit(data)\n",
    "model5.plot(data)\n",
    "print(f\"Model5 fitted parameters: {fitted_params_model5}\")"
   ]
  }
 ],
 "metadata": {
  "kernelspec": {
   "display_name": "ldd22",
   "language": "python",
   "name": "python3"
  },
  "language_info": {
   "codemirror_mode": {
    "name": "ipython",
    "version": 3
   },
   "file_extension": ".py",
   "mimetype": "text/x-python",
   "name": "python",
   "nbconvert_exporter": "python",
   "pygments_lexer": "ipython3",
   "version": "3.9.15"
  },
  "orig_nbformat": 4
 },
 "nbformat": 4,
 "nbformat_minor": 2
}
